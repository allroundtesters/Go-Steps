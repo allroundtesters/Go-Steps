{
 "cells": [
  {
   "cell_type": "markdown",
   "metadata": {},
   "source": [
    "# Let's Parse 1000 Version Messages From Real Bitcoin Nodes\n",
    "\n",
    "So it seems like we correctly translated all the relevant tables from the protocol documentation into Python code. But how can we be sure we didn't make any mistakes. We can probably never be completely sure, but a good way for us to get started would be to send `version` messages to a large number of Bitcoin nodes, listen for and decode their `version` replies using `VersionMessage` classmethods and seeing if things \"make sense\".\n",
    "\n",
    "`earn.com` offers [a free, unauthenticated API](https://bitnodes.earn.com/api/#list-nodes) where you can get a list of all visible Bitcoin full nodes.\n",
    "\n",
    "Execute this command in your terminal to see what kind of data this API gives us:\n",
    "\n",
    "```\n",
    "curl -H \"Accept: application/json; indent=4\" https://bitnodes.earn.com/api/v1/snapshots/latest/\n",
    "```\n",
    "\n",
    "We can call this API directly from Python using the `requests` module:"
   ]
  },
  {
   "cell_type": "code",
   "execution_count": null,
   "metadata": {},
   "outputs": [],
   "source": [
    "import requests\n",
    "from pprint import pprint\n",
    "\n",
    "def get_nodes():\n",
    "    url = \"https://bitnodes.earn.com/api/v1/snapshots/latest/\"\n",
    "    response = requests.get(url)\n",
    "    return response.json()[\"nodes\"]"
   ]
  },
  {
   "cell_type": "code",
   "execution_count": null,
   "metadata": {},
   "outputs": [],
   "source": [
    "nodes = get_nodes()\n",
    "pprint(nodes)"
   ]
  },
  {
   "cell_type": "markdown",
   "metadata": {},
   "source": [
    "In particular, we can get a list of addresses using the `nodes.keys()`:"
   ]
  },
  {
   "cell_type": "code",
   "execution_count": null,
   "metadata": {},
   "outputs": [],
   "source": [
    "def get_addr_tuples():\n",
    "    nodes = get_nodes()\n",
    "    raw_addrs = nodes.keys()\n",
    "    addr_tuples = []\n",
    "    for raw_addr in raw_addrs:\n",
    "        ip, port = raw_addr.rsplit(\":\", 1)\n",
    "        addr_tuple = (ip, int(port))\n",
    "        addr_tuples.append(addr_tuple)\n",
    "    return addr_tuples\n",
    "\n",
    "addr_tuples = get_addr_tuples()\n",
    "print(addr_tuples)"
   ]
  },
  {
   "cell_type": "code",
   "execution_count": null,
   "metadata": {},
   "outputs": [],
   "source": [
    "import downloader\n",
    "\n",
    "downloader.cleanup()\n",
    "addrs = downloader.get_addr_tuples()\n",
    "downloader.connect_many(addrs)"
   ]
  },
  {
   "cell_type": "markdown",
   "metadata": {},
   "source": [
    "Do you notice how slow this is?\n",
    "\n",
    "My machine received 9513 addresses from earn.com, and is processes about 5 messages per second. This is going to take about 30 seconds to process everything. \n",
    "\n",
    "TOO SLOW!!!\n",
    "\n",
    "Now let's thing for a second. Why's it so slow? In fact, it's because we're spending almost all our time waiting for `sock.connect` or `sock.recv` to give us a return value. Our Python program is just sitting on its hands while packets fly across the world, one at a time.\n",
    "\n",
    "Isn't there something we could have our Python program work on while it waits? Couldn't we perhaps have it send a few messages at a time?\n",
    "\n",
    "The answer, or course, is \"yes\". But this requires \"asynchronous programming\". FIXME: insert youtube link\n",
    "\n",
    "I'm not going to attempt to fully explain how this works, but I'll once again give you a magical program that does what we want."
   ]
  },
  {
   "cell_type": "code",
   "execution_count": null,
   "metadata": {},
   "outputs": [],
   "source": [
    "import downloader\n",
    "\n",
    "downloader.cleanup()\n",
    "addrs = downloader.get_addr_tuples()\n",
    "downloader.async_connect_many(addrs)"
   ]
  },
  {
   "cell_type": "markdown",
   "metadata": {},
   "source": [
    "So what the hell is going on here?\n",
    "\n",
    "These strings don't look like port numbers, and "
   ]
  },
  {
   "cell_type": "code",
   "execution_count": null,
   "metadata": {},
   "outputs": [],
   "source": [
    "from collections import Counter\n",
    "from library import VersionMessage, Address\n",
    "\n",
    "def get_versions():\n",
    "    with open('versions.txt', 'rb') as f:\n",
    "        lines = f.readlines()\n",
    "        lines[:] = (value.strip() for value in lines if value != b'\\n')\n",
    "        return lines"
   ]
  },
  {
   "cell_type": "code",
   "execution_count": null,
   "metadata": {},
   "outputs": [],
   "source": [
    "from collections import Counter\n",
    "\n",
    "vms = []\n",
    "\n",
    "for raw in get_versions():\n",
    "    try:\n",
    "        vm = VersionMessage.from_bytes(raw)\n",
    "        vms.append(vm)\n",
    "    except Exception as e:\n",
    "        print(e)\n",
    "        continue"
   ]
  },
  {
   "cell_type": "code",
   "execution_count": null,
   "metadata": {},
   "outputs": [],
   "source": [
    "len(vms)"
   ]
  },
  {
   "cell_type": "code",
   "execution_count": null,
   "metadata": {},
   "outputs": [],
   "source": [
    "for vm in vms:\n",
    "    print(vm.addr_recv)"
   ]
  },
  {
   "cell_type": "code",
   "execution_count": null,
   "metadata": {},
   "outputs": [],
   "source": [
    "ports_counter = Counter([addr.port for addr in addrs])\n",
    "ports_counter.most_common(10)"
   ]
  },
  {
   "cell_type": "code",
   "execution_count": null,
   "metadata": {},
   "outputs": [],
   "source": [
    "ip_counter = Counter([addr.ip for addr in addrs])\n",
    "ip_counter.most_common(10)"
   ]
  },
  {
   "cell_type": "code",
   "execution_count": null,
   "metadata": {},
   "outputs": [],
   "source": [
    "ips = Counter([addr.formatted_ip for addr in addrs])\n",
    "ips"
   ]
  },
  {
   "cell_type": "markdown",
   "metadata": {},
   "source": [
    "I get \n",
    "\n",
    "```\n",
    "{IPv4Address('104.5.61.4'), IPv4Address('198.27.100.9')}\n",
    "```\n",
    "\n",
    "'104.5.61.4' is my public ip address\n",
    "\n"
   ]
  },
  {
   "cell_type": "code",
   "execution_count": null,
   "metadata": {},
   "outputs": [],
   "source": [
    "# all 53 which report 8333 also report the wrong ip address ...\n",
    "set([interpret_raw_ip(addr.ip) for addr in addrs if addr.port == 8333])"
   ]
  },
  {
   "cell_type": "code",
   "execution_count": null,
   "metadata": {},
   "outputs": [],
   "source": [
    "raw_wrong_ip = b'\\x00\\x00\\x00\\x00\\x00\\x00\\x00\\x00\\x00\\x00\\xff\\xff\\xc6\\x1bd\\t'\n",
    "\n",
    "for line in get_versions():\n",
    "    try:\n",
    "        vm = VersionMessage.from_bytes(line)\n",
    "        if vm.addr_recv.ip == raw_wrong_ip:\n",
    "            print(vm.user_agent)\n",
    "    except:\n",
    "        continue"
   ]
  },
  {
   "cell_type": "markdown",
   "metadata": {},
   "source": [
    "So there's something funky goin gon with that version of the bitcoin software. I would guess that it's hardcoding the port and ip. The reason I'm guessing it's hardcoded is because 8333 is the port that bitcoin core runs on. \n",
    "\n",
    "But not all node reporting this user agent get my ip / port wrong:"
   ]
  },
  {
   "cell_type": "code",
   "execution_count": null,
   "metadata": {},
   "outputs": [],
   "source": [
    "satoshi_16_user_agent = b'/Satoshi:0.16.0/'\n",
    "\n",
    "for line in lines:\n",
    "    try:\n",
    "        vm = VersionMessage.from_bytes(line)\n",
    "        a = Address.from_bytes(vm.addr_recv, version_msg=True)\n",
    "        if vm.user_agent == satoshi_16_user_agent:\n",
    "            print(interpret_raw_ip(a.ip), a.port)\n",
    "    except:\n",
    "        continue"
   ]
  },
  {
   "cell_type": "markdown",
   "metadata": {},
   "source": [
    "At this point I think we can be reasonably confident that we've figured out how to parse ip addresses. But along the way it seems that we've also learned to not trust them!"
   ]
  },
  {
   "cell_type": "code",
   "execution_count": null,
   "metadata": {},
   "outputs": [],
   "source": [
    "right_ip = b'\\x00\\x00\\x00\\x00\\x00\\x00\\x00\\x00\\x00\\x00\\xff\\xffh\\x05=\\x04'\n",
    "\n",
    "formatted = \":\".join([str(b) for b in right_ip[-4:]])\n",
    "\n",
    "formatted"
   ]
  },
  {
   "cell_type": "code",
   "execution_count": null,
   "metadata": {},
   "outputs": [],
   "source": []
  },
  {
   "cell_type": "markdown",
   "metadata": {},
   "source": [
    "# comparing speeds / new code"
   ]
  },
  {
   "cell_type": "code",
   "execution_count": null,
   "metadata": {},
   "outputs": [],
   "source": [
    "%load_ext autoreload\n",
    "%autoreload 2"
   ]
  },
  {
   "cell_type": "code",
   "execution_count": null,
   "metadata": {},
   "outputs": [],
   "source": [
    "from ibd.four.downloader import *"
   ]
  },
  {
   "cell_type": "code",
   "execution_count": null,
   "metadata": {},
   "outputs": [],
   "source": [
    "addrs = get_addrs()\n",
    "print(f\"got {len(addrs)} node addresses\")"
   ]
  },
  {
   "cell_type": "code",
   "execution_count": null,
   "metadata": {},
   "outputs": [],
   "source": [
    "fifty_addrs = addrs[:50]\n",
    "futures = connect_many_threadpool(fifty_addrs)\n",
    "start_stop_tups = futures_to_start_stop_tups(futures)"
   ]
  },
  {
   "cell_type": "code",
   "execution_count": null,
   "metadata": {},
   "outputs": [],
   "source": [
    "futures = list(futures)\n",
    "futures"
   ]
  },
  {
   "cell_type": "code",
   "execution_count": null,
   "metadata": {},
   "outputs": [],
   "source": [
    "results = [f.result() for f in futures if not f.exception()]"
   ]
  },
  {
   "cell_type": "code",
   "execution_count": null,
   "metadata": {},
   "outputs": [],
   "source": [
    "results\n"
   ]
  },
  {
   "cell_type": "code",
   "execution_count": null,
   "metadata": {},
   "outputs": [],
   "source": [
    "start_stop = [(start, stop) for (msg, start, stop) in results]"
   ]
  },
  {
   "cell_type": "code",
   "execution_count": null,
   "metadata": {},
   "outputs": [],
   "source": [
    "start_stop = sorted(start_stop, key=lambda tup: tup[0])\n",
    "start_stop"
   ]
  },
  {
   "cell_type": "code",
   "execution_count": null,
   "metadata": {},
   "outputs": [],
   "source": [
    "import numpy as np\n",
    "import matplotlib.pyplot as plt\n",
    "\n",
    "start,stop = np.array(start_stop).T\n",
    "plt.barh(range(len(start)), stop-start, left=start)\n",
    "plt.grid(axis=\"x\")\n",
    "plt.ylabel(\"Tasks\")\n",
    "plt.xlabel(\"Seconds\")"
   ]
  },
  {
   "cell_type": "markdown",
   "metadata": {},
   "source": [
    "# Execute tasks in threadpool and graph results"
   ]
  },
  {
   "cell_type": "code",
   "execution_count": null,
   "metadata": {},
   "outputs": [],
   "source": [
    "%load_ext autoreload\n",
    "%autoreload 2"
   ]
  },
  {
   "cell_type": "code",
   "execution_count": null,
   "metadata": {},
   "outputs": [],
   "source": [
    "from ibd.four.downloader import *\n",
    "\n",
    "addrs = get_addrs()\n",
    "print(f\"got {len(addrs)} node addresses\")\n",
    "\n",
    "fifty_addrs = addrs[:200]\n",
    "futures = connect_many_threadpool(fifty_addrs)\n",
    "start_stop_tups = threadpool_result_to_start_stop_tups(futures)\n",
    "graph_tasks(start_stop_tups)"
   ]
  },
  {
   "cell_type": "markdown",
   "metadata": {},
   "source": [
    "NOTES\n",
    "* \"to event loop, or not to event loop\"\n",
    "* should i split the concurrency lesson into 2 -- teach some here and some during the \"download blocks from multiple peers\" "
   ]
  },
  {
   "cell_type": "code",
   "execution_count": null,
   "metadata": {},
   "outputs": [],
   "source": []
  }
 ],
 "metadata": {
  "kernelspec": {
   "display_name": "Python 3",
   "language": "python",
   "name": "python3"
  },
  "language_info": {
   "codemirror_mode": {
    "name": "ipython",
    "version": 3
   },
   "file_extension": ".py",
   "mimetype": "text/x-python",
   "name": "python",
   "nbconvert_exporter": "python",
   "pygments_lexer": "ipython3",
   "version": "3.6.5"
  }
 },
 "nbformat": 4,
 "nbformat_minor": 2
}
