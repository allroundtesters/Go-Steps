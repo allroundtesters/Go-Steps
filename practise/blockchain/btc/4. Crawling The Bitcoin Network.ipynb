{
 "cells": [
  {
   "cell_type": "markdown",
   "metadata": {},
   "source": [
    "Here's where we left off last time"
   ]
  },
  {
   "cell_type": "code",
   "execution_count": null,
   "metadata": {},
   "outputs": [],
   "source": [
    "%load_ext autoreload\n",
    "%autoreload 2\n",
    "\n",
    "from collections import Counter"
   ]
  },
  {
   "cell_type": "code",
   "execution_count": null,
   "metadata": {},
   "outputs": [],
   "source": [
    "from ibd.three.complete import *\n",
    "from ibd.three.handshake import handshake\n",
    "import time\n",
    "\n",
    "\n",
    "runs = []\n",
    "\n",
    "\n",
    "def simple_crawler():\n",
    "    addresses = [\n",
    "        (\"91.221.70.137\", 8333),\n",
    "        (\"92.255.176.109\", 8333),\n",
    "        (\"35.198.151.21\", 8333),\n",
    "        (\"94.199.178.17\", 8333),\n",
    "        (\"213.250.21.112\", 8333),\n",
    "    ]\n",
    "    global times\n",
    "    while addresses:\n",
    "        start = time.time()\n",
    "        address = addresses.pop()\n",
    "        print('connecting to ', address)\n",
    "        \n",
    "        try:\n",
    "            sock = handshake(address, log=False)\n",
    "        except Exception as e:\n",
    "            print(e)\n",
    "            runs.append((start, time.time(), 'failure'))\n",
    "            continue\n",
    "            \n",
    "        print(\"Waiting for addr message\")\n",
    "        listening = True\n",
    "        while listening:\n",
    "            try:\n",
    "                packet = Packet.from_socket(sock)\n",
    "            except EOFError as e:\n",
    "                print(e)\n",
    "                runs.append((start, time.time(), 'failure'))\n",
    "                break\n",
    "            if packet.command == b\"addr\":\n",
    "                addr_message = AddrMessage.from_bytes(packet.payload)\n",
    "                if len(addr_message.addresses) == 1 and addr_message.addresses[0].ip == address[0]:\n",
    "                    print(\"Received addr message with only our peer's address. Still waiting ...\")\n",
    "                else:\n",
    "                    print(f\"Received {len(addr_message.addresses)} addrs\")\n",
    "                    addresses.extend([(a.ip, a.port) for a in addr_message.addresses])\n",
    "                    runs.append((start, time.time(), 'success'))\n",
    "                    listening = False\n",
    "    print(\"ran out of addresses. exiting.\")"
   ]
  },
  {
   "cell_type": "markdown",
   "metadata": {},
   "source": [
    "This code is nothing to write home about, but it does something very cool: it crawls the Bitcoin network!\n",
    "\n",
    "It maintains a list of addresses and uses them as a sort of \"queue\". It pops addresses off the end of the list and tries to connect to them and do the version handshake. Upon a successful version handshake, it continues listening until it receives an [\"addr\" message ](https://en.bitcoin.it/wiki/Protocol_documentation#addr). It checks if there there `addr` message contains any addresses we don't yet know about. If it does, it adds them to its `addresses` list \n",
    "\n",
    "It also keeps track of the start time, stop time and outcome of every loop in the `times` global variable. I made this a global variable so that we can kill the script and still have access to this data afterwards.\n",
    "\n",
    "Here is what the output looked like after running the script for about 7 minutes:\n",
    "\n",
    "```\n",
    "connecting to  ('213.250.21.112', 8333)\n",
    "Waiting for addr message\n",
    "Received 1 addrs\n",
    "connecting to  ('2a00:ee2:1200:1900:20c:29ff:fe45:9554', 8333)\n",
    "[Errno -9] Address family for hostname not supported\n",
    "connecting to  ('94.199.178.17', 8333)\n",
    "Waiting for addr message\n",
    "Received addr message with only our peer's address. Still waiting ...\n",
    "Received 1 addrs\n",
    "connecting to  ('87.110.120.221', 8333)\n",
    "Waiting for addr message\n",
    "Received addr message with only our peer's address. Still waiting ...\n",
    "Received 1 addrs\n",
    "connecting to  ('213.155.3.216', 8333)\n",
    "Waiting for addr message\n",
    "Received addr message with only our peer's address. Still waiting ...\n",
    "Failed to recover from bad magic bytes\n",
    "connecting to  ('35.198.151.21', 8333)\n",
    "Waiting for addr message\n",
    "Received addr message with only our peer's address. Still waiting ...\n",
    "Failed to recover from bad magic bytes\n",
    "connecting to  ('92.255.176.109', 8333)\n",
    "Waiting for addr message\n",
    "Received addr message with only our peer's address. Still waiting ...\n",
    "Received 1 addrs\n",
    "connecting to  ('80.211.252.169', 8333)\n",
    "Waiting for addr message\n",
    "Received addr message with only our peer's address. Still waiting ...\n",
    "Received 2 addrs\n",
    "connecting to  ('185.150.189.51', 8333)\n",
    "Waiting for addr message\n",
    "Received addr message with only our peer's address. Still waiting ...\n",
    "```\n",
    "\n",
    "Here is what `runs` looked like:"
   ]
  },
  {
   "cell_type": "code",
   "execution_count": null,
   "metadata": {},
   "outputs": [],
   "source": [
    "runs = [(1535210345.5569942, 1535210346.1488032, ('213.250.21.112', 8333), 'success'),\n",
    " (1535210346.1488087,\n",
    "  1535210346.1517005,\n",
    "  ('2a00:ee2:1200:1900:20c:29ff:fe45:9554', 8333),\n",
    "  'handshake-failure'),\n",
    " (1535210346.1522708, 1535210429.192826, ('94.199.178.17', 8333), 'success'),\n",
    " (1535210429.1928294, 1535210658.7586098, ('87.110.120.221', 8333), 'success'),\n",
    " (1535210658.758617,\n",
    "  1535210660.3360462,\n",
    "  ('213.155.3.216', 8333),\n",
    "  'addr-failure'),\n",
    " (1535210660.336055,\n",
    "  1535210661.053015,\n",
    "  ('35.198.151.21', 8333),\n",
    "  'addr-failure'),\n",
    " (1535210661.053026, 1535210676.4149354, ('92.255.176.109', 8333), 'success'),\n",
    " (1535210676.4149392, 1535210783.6834803, ('80.211.252.169', 8333), 'success')]"
   ]
  },
  {
   "cell_type": "markdown",
   "metadata": {},
   "source": [
    "* We successfully downloaded `addr` messages from 5 peers\n",
    "* We successfully executed the version handshake but failed to download `addr` messages from 2 peers\n",
    "* We failed to execute version handshake with 1 peer"
   ]
  },
  {
   "cell_type": "code",
   "execution_count": null,
   "metadata": {},
   "outputs": [],
   "source": [
    "Counter([run[3] for run in runs])"
   ]
  },
  {
   "cell_type": "markdown",
   "metadata": {},
   "source": [
    "Here's a calculation to see the average duration per successful request:"
   ]
  },
  {
   "cell_type": "code",
   "execution_count": null,
   "metadata": {},
   "outputs": [],
   "source": [
    "first_task_start = runs[0][0]\n",
    "last_task_end = runs[-1][1]\n",
    "duration = last_task_end - first_task_start\n",
    "num_successful_tasks = len([run for run in runs if run[3] == \"success\"])\n",
    "duration / num_successful_tasks"
   ]
  },
  {
   "cell_type": "markdown",
   "metadata": {},
   "source": [
    "So ... 88 seconds per Bitcoin peer ... that's rough ...\n",
    "\n",
    "As I write this, Bitnodes says there are 9803 peers in the network. At this pace it would take about 10 days to crawl the entire network:"
   ]
  },
  {
   "cell_type": "code",
   "execution_count": null,
   "metadata": {},
   "outputs": [],
   "source": [
    "estimated_duration = 9803 * 88\n",
    "seconds_per_day = 60 * 60 * 24 \n",
    "estimated_duration / seconds_per_day"
   ]
  },
  {
   "cell_type": "markdown",
   "metadata": {},
   "source": [
    "So why is our program so slow?\n",
    "\n",
    "In order to improve our lot, we first need to understand _why_ our code is slow. Analyzing the speed of a program is one aspect of the discipline of [\"profiling\"](https://en.wikipedia.org/wiki/Profiling_(computer_programming)).\n",
    "\n",
    "To profile our slow code and understand figure out why it's so slow, we're going to use a tool called [line_profiler](https://github.com/rkern/line_profiler/). [Here is a nice tutorial](https://jakevdp.github.io/PythonDataScienceHandbook/01.07-timing-and-profiling.html) that describes a few methods of profiling python code, including line_profiler. Please read it.\n",
    "\n",
    "To use `version_profiler` we first, we load line_profiler as an Jupyter extension. Next, we run our ` simple_crawler` function through it:"
   ]
  },
  {
   "cell_type": "code",
   "execution_count": null,
   "metadata": {},
   "outputs": [],
   "source": [
    "%load_ext line_profiler\n",
    "%lprun -f simple_crawler simple_crawler()"
   ]
  },
  {
   "cell_type": "markdown",
   "metadata": {},
   "source": [
    "Here's the result I got after running this for 93 seconds.\n",
    "\n",
    "We're spending 98.8% of the time on the `packet = Packet.from_socket(sock)` line of code, the remaining 1.2% of the time on the `sock = handshake(address, log=False)` line of code, and virtually zero time anywhere else.\n",
    "\n",
    "This makes sense. From previous classes we say that the version handshake takes less than 1 second. If we're averaging only one or two \"runs\" through our loop per minute, then most of the time is spent elsewhere. When we print out every message we receive it is clear that most of the time is spent waiting for our peer to send us messages, which happens in the `packet = Packet.from_socket(sock)` line.\n",
    "\n",
    "All this time is spent on the blocking `sock.recv` lines within `Packet.from_socket`.\n",
    "\n",
    "```\n",
    "Timer unit: 1e-06 s\n",
    "\n",
    "Total time: 93.1451 s\n",
    "File: <ipython-input-10-06eed22ae057>\n",
    "Function: simple_crawler at line 9\n",
    "\n",
    "Line #      Hits         Time  Per Hit   % Time  Line Contents\n",
    "==============================================================\n",
    "     9                                           def simple_crawler():\n",
    "    10                                               addresses = [\n",
    "    11         1          3.0      3.0      0.0          (\"91.221.70.137\", 8333),\n",
    "    12         1          2.0      2.0      0.0          (\"92.255.176.109\", 8333),\n",
    "    13         1          1.0      1.0      0.0          (\"35.198.151.21\", 8333),\n",
    "    14         1          1.0      1.0      0.0          (\"94.199.178.17\", 8333),\n",
    "    15         1          1.0      1.0      0.0          (\"213.250.21.112\", 8333),\n",
    "    16                                               ]\n",
    "    17                                               global times\n",
    "    18         5         30.0      6.0      0.0      while addresses:\n",
    "    19         5         35.0      7.0      0.0          start = time.time()\n",
    "    20         5         31.0      6.2      0.0          address = addresses.pop()\n",
    "    21         5       1612.0    322.4      0.0          print('connecting to ', address)\n",
    "    22                                                   \n",
    "    23         5         29.0      5.8      0.0          try:\n",
    "    24         5    1135411.0 227082.2      1.2              sock = handshake(address, log=False)\n",
    "    25         2         25.0     12.5      0.0          except Exception as e:\n",
    "    26         2        521.0    260.5      0.0              print(e)\n",
    "    27         2         31.0     15.5      0.0              times.append((start, time.time(), 'failure'))\n",
    "    28         2       1090.0    545.0      0.0              continue\n",
    "    29                                                       \n",
    "    30         3       1165.0    388.3      0.0          print(\"Waiting for addr message\")\n",
    "    31         3         20.0      6.7      0.0          listening = True\n",
    "    32        35        181.0      5.2      0.0          while listening:\n",
    "    33        33        152.0      4.6      0.0              try:\n",
    "    34        33   92001983.0 2787938.9     98.8                  packet = Packet.from_socket(sock)\n",
    "    35         1         15.0     15.0      0.0              except EOFError as e:\n",
    "    36                                                           print(e)\n",
    "    37                                                           times.append((start, time.time(), 'failure'))\n",
    "    38                                                           break\n",
    "    39        32        310.0      9.7      0.0              if packet.command == b\"addr\":\n",
    "    40         4        776.0    194.0      0.0                  addr_message = AddrMessage.from_bytes(packet.payload)\n",
    "    41         4         48.0     12.0      0.0                  if len(addr_message.addresses) == 1 and addr_message.addresses[0].ip == address[0]:\n",
    "    42         2        658.0    329.0      0.0                      print(\"Received addr message with only our peer's address. Still waiting ...\")\n",
    "    43                                                           else:\n",
    "    44         2        848.0    424.0      0.0                      print(f\"Received {len(addr_message.addresses)} addrs\")\n",
    "    45         2         53.0     26.5      0.0                      addresses.extend([(a.ip, a.port) for a in addr_message.addresses])\n",
    "    46         2         29.0     14.5      0.0                      times.append((start, time.time(), 'success'))\n",
    "    47         2         13.0      6.5      0.0                      listening = False\n",
    "    48                                               print(\"ran out of addresses. exiting.\")\n",
    "```"
   ]
  },
  {
   "cell_type": "markdown",
   "metadata": {},
   "source": [
    "Next, let's plot the execution of our program's loops"
   ]
  },
  {
   "cell_type": "code",
   "execution_count": null,
   "metadata": {},
   "outputs": [],
   "source": [
    "start_stop = [\n",
    "    (run[0], run[1]) for run in runs\n",
    "]\n",
    "start_stop"
   ]
  },
  {
   "cell_type": "code",
   "execution_count": null,
   "metadata": {},
   "outputs": [],
   "source": [
    "import numpy as np\n",
    "import matplotlib.pyplot as plt\n",
    "\n",
    "def visualize_runtimes(results):\n",
    "    start,stop = np.array(results).T\n",
    "    plt.barh(range(len(start)), stop-start, left=start)\n",
    "    plt.grid(axis=\"x\")\n",
    "    plt.ylabel(\"Tasks\")\n",
    "    plt.xlabel(\"Seconds\")"
   ]
  },
  {
   "cell_type": "code",
   "execution_count": null,
   "metadata": {},
   "outputs": [],
   "source": [
    "visualize_runtimes(start_stop)"
   ]
  },
  {
   "cell_type": "markdown",
   "metadata": {},
   "source": [
    "Every bar in this graph represents a connection to some peer on the bitcoin network. \n",
    "\n",
    "First, notice that some bars seem to be missing, or slice thin. These are the graphs with errors. We can demonstrate this by filtering out the tasks that weren't recorded as \"success\":"
   ]
  },
  {
   "cell_type": "code",
   "execution_count": null,
   "metadata": {},
   "outputs": [],
   "source": [
    "success_start_stop = [\n",
    "    (run[0], run[1]) for run in runs if run[-1] == 'success'\n",
    "]\n",
    "visualize_runtimes(success_start_stop)"
   ]
  },
  {
   "cell_type": "code",
   "execution_count": null,
   "metadata": {},
   "outputs": [],
   "source": [
    "fail_start_stop = [\n",
    "    (run[0], run[1]) for run in runs if run[-1] != 'success'\n",
    "]\n",
    "visualize_runtimes(fail_start_stop)"
   ]
  },
  {
   "cell_type": "markdown",
   "metadata": {},
   "source": [
    "So here's our problem:\n",
    "* We're only able to communicate to 1 peer at a time, as demonstrated by the graphs above\n",
    "* When communicating with a peer, approximately 98% of the time is spent waiting for the peer to send us a response.\n",
    "\n",
    "What if we were able to communicate with more than one peer at a time? While one connection is waiting another could actually busy themselves with interpreting an incoming message and responsing to it if appropriate.\n",
    "\n",
    "If 98% of the time is spent waiting, we could in theory achieve at least a 50x speedup by doing this."
   ]
  }
 ],
 "metadata": {
  "kernelspec": {
   "display_name": "Python 3",
   "language": "python",
   "name": "python3"
  },
  "language_info": {
   "codemirror_mode": {
    "name": "ipython",
    "version": 3
   },
   "file_extension": ".py",
   "mimetype": "text/x-python",
   "name": "python",
   "nbconvert_exporter": "python",
   "pygments_lexer": "ipython3",
   "version": "3.6.5"
  }
 },
 "nbformat": 4,
 "nbformat_minor": 2
}
